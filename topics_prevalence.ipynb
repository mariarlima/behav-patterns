{
 "cells": [
  {
   "cell_type": "markdown",
   "metadata": {},
   "source": [
    "# Prevalence of topics & visualizations\n"
   ]
  },
  {
   "cell_type": "markdown",
   "metadata": {},
   "source": [
    "Copyright 2023 Maria Lima  \n",
    "(mr3418@ic.ac.uk)\n",
    "\n",
    "Last updated: 10/06/2023"
   ]
  },
  {
   "cell_type": "markdown",
   "metadata": {},
   "source": [
    "### Dependencies"
   ]
  },
  {
   "cell_type": "code",
   "execution_count": 13,
   "metadata": {},
   "outputs": [],
   "source": [
    "import pickle\n",
    "import numpy as np\n",
    "import pandas as pd\n",
    "import pylab as plt\n",
    "import altair as alt \n",
    "from utils import alexa_usage as ale\n",
    "from utils import novelty_effect as nov"
   ]
  },
  {
   "cell_type": "markdown",
   "metadata": {},
   "source": [
    "### Load and process data"
   ]
  },
  {
   "cell_type": "code",
   "execution_count": 11,
   "metadata": {},
   "outputs": [
    {
     "name": "stdout",
     "output_type": "stream",
     "text": [
      "<class 'pandas.core.frame.DataFrame'>\n",
      "Int64Index: 8491 entries, 0 to 831\n",
      "Data columns (total 4 columns):\n",
      " #   Column      Non-Null Count  Dtype         \n",
      "---  ------      --------------  -----         \n",
      " 0   patient_id  8491 non-null   object        \n",
      " 1   timeframe   8491 non-null   datetime64[ns]\n",
      " 2   int_type    8491 non-null   object        \n",
      " 3   date        8491 non-null   object        \n",
      "dtypes: datetime64[ns](1), object(3)\n",
      "memory usage: 331.7+ KB\n"
     ]
    }
   ],
   "source": [
    "PATH = './datasets/'\n",
    "df_alexa = pickle.load(open(PATH + 'df_alexa.pkl', 'rb'))\n",
    "df_topics = pickle.load(open(PATH + 'df_topic_embed.pkl', 'rb'))\n",
    "df_act = pickle.load(open(PATH + 'df_activity.pkl', 'rb'))\n",
    "topicID = pickle.load(open(PATH + 'df_topic_pred.pkl', 'rb'))\n",
    "df_alexa.info()"
   ]
  },
  {
   "cell_type": "code",
   "execution_count": 6,
   "metadata": {},
   "outputs": [
    {
     "data": {
      "text/plain": [
       "6965"
      ]
     },
     "execution_count": 6,
     "metadata": {},
     "output_type": "execute_result"
    }
   ],
   "source": [
    "df_all = ale.get_usage_all(df_alexa)\n",
    "df_all =df_all.drop(df_all.index[df_all.patient_id == 'P12'][:3]) \n",
    "len(df_all[df_all.int_type == 'random'])"
   ]
  },
  {
   "cell_type": "code",
   "execution_count": 7,
   "metadata": {},
   "outputs": [
    {
     "data": {
      "text/plain": [
       "array(['Undefined', 'Weather', 'Entertainment', 'Control',\n",
       "       'Reminders/Time/Date', 'Answers', 'Attempt questionnaire', 'News',\n",
       "       'Greetings', 'Timers'], dtype=object)"
      ]
     },
     "execution_count": 7,
     "metadata": {},
     "output_type": "execute_result"
    }
   ],
   "source": [
    "df_topics_ = ale.get_usage_topics(df_topics)\n",
    "df_topics_.topic.unique()"
   ]
  },
  {
   "cell_type": "markdown",
   "metadata": {},
   "source": [
    "## Topics prevalence"
   ]
  },
  {
   "cell_type": "markdown",
   "metadata": {},
   "source": [
    "##### 1) Plot with normalized x-axis "
   ]
  },
  {
   "cell_type": "code",
   "execution_count": 6,
   "metadata": {},
   "outputs": [
    {
     "data": {
      "text/html": [
       "\n",
       "<div id=\"altair-viz-7896f917e3424ef48fdd7347f66ecd4a\"></div>\n",
       "<script type=\"text/javascript\">\n",
       "  var VEGA_DEBUG = (typeof VEGA_DEBUG == \"undefined\") ? {} : VEGA_DEBUG;\n",
       "  (function(spec, embedOpt){\n",
       "    let outputDiv = document.currentScript.previousElementSibling;\n",
       "    if (outputDiv.id !== \"altair-viz-7896f917e3424ef48fdd7347f66ecd4a\") {\n",
       "      outputDiv = document.getElementById(\"altair-viz-7896f917e3424ef48fdd7347f66ecd4a\");\n",
       "    }\n",
       "    const paths = {\n",
       "      \"vega\": \"https://cdn.jsdelivr.net/npm//vega@5?noext\",\n",
       "      \"vega-lib\": \"https://cdn.jsdelivr.net/npm//vega-lib?noext\",\n",
       "      \"vega-lite\": \"https://cdn.jsdelivr.net/npm//vega-lite@4.17.0?noext\",\n",
       "      \"vega-embed\": \"https://cdn.jsdelivr.net/npm//vega-embed@6?noext\",\n",
       "    };\n",
       "\n",
       "    function maybeLoadScript(lib, version) {\n",
       "      var key = `${lib.replace(\"-\", \"\")}_version`;\n",
       "      return (VEGA_DEBUG[key] == version) ?\n",
       "        Promise.resolve(paths[lib]) :\n",
       "        new Promise(function(resolve, reject) {\n",
       "          var s = document.createElement('script');\n",
       "          document.getElementsByTagName(\"head\")[0].appendChild(s);\n",
       "          s.async = true;\n",
       "          s.onload = () => {\n",
       "            VEGA_DEBUG[key] = version;\n",
       "            return resolve(paths[lib]);\n",
       "          };\n",
       "          s.onerror = () => reject(`Error loading script: ${paths[lib]}`);\n",
       "          s.src = paths[lib];\n",
       "        });\n",
       "    }\n",
       "\n",
       "    function showError(err) {\n",
       "      outputDiv.innerHTML = `<div class=\"error\" style=\"color:red;\">${err}</div>`;\n",
       "      throw err;\n",
       "    }\n",
       "\n",
       "    function displayChart(vegaEmbed) {\n",
       "      vegaEmbed(outputDiv, spec, embedOpt)\n",
       "        .catch(err => showError(`Javascript Error: ${err.message}<br>This usually means there's a typo in your chart specification. See the javascript console for the full traceback.`));\n",
       "    }\n",
       "\n",
       "    if(typeof define === \"function\" && define.amd) {\n",
       "      requirejs.config({paths});\n",
       "      require([\"vega-embed\"], displayChart, err => showError(`Error loading script: ${err.message}`));\n",
       "    } else {\n",
       "      maybeLoadScript(\"vega\", \"5\")\n",
       "        .then(() => maybeLoadScript(\"vega-lite\", \"4.17.0\"))\n",
       "        .then(() => maybeLoadScript(\"vega-embed\", \"6\"))\n",
       "        .catch(showError)\n",
       "        .then(() => displayChart(vegaEmbed));\n",
       "    }\n",
       "  })({\"config\": {\"view\": {\"continuousWidth\": 400, \"continuousHeight\": 300}, \"axis\": {\"labelFontSize\": 12}, \"title\": {\"fontSize\": 15}}, \"vconcat\": [{\"data\": {\"name\": \"data-adbe8c956bc440aa244b8f7b62d5eec1\"}, \"mark\": \"bar\", \"encoding\": {\"color\": {\"field\": \"topic\", \"legend\": {\"title\": \"topic\"}, \"scale\": {\"range\": [\"rgba(25,25,112,0.85)\", \"rgba(16,78,139,0.85)\", \"rgba(70,130,180,0.85)\", \"rgba(0,178,238,0.85)\", \"rgba(135,206,250,0.85)\", \"rgba(162,181,205,0.85)\", \"rgba(255,160,122,0.85)\", \"rgba(238,99,99,0.85)\", \"rgba(139,34,82,0.85)\", \"rgba(220,20,60,0.85)\"]}, \"type\": \"nominal\"}, \"order\": {\"field\": \"color_site_sort_index\", \"sort\": \"ascending\", \"type\": \"quantitative\"}, \"x\": {\"aggregate\": \"sum\", \"field\": \"count\", \"stack\": \"normalize\", \"title\": \"total\", \"type\": \"quantitative\"}, \"y\": {\"field\": \"timeframe\", \"scale\": {\"reverse\": true}, \"stack\": true, \"timeUnit\": \"yearmonth\", \"title\": \"month\", \"type\": \"ordinal\"}}, \"height\": 200, \"title\": \"P2\", \"width\": 400}, {\"data\": {\"name\": \"data-aa3de864fb0442382f4119007b2111b8\"}, \"mark\": \"bar\", \"encoding\": {\"color\": {\"field\": \"topic\", \"legend\": {\"title\": \"topic\"}, \"scale\": {\"range\": [\"rgba(25,25,112,0.85)\", \"rgba(16,78,139,0.85)\", \"rgba(70,130,180,0.85)\", \"rgba(0,178,238,0.85)\", \"rgba(135,206,250,0.85)\", \"rgba(162,181,205,0.85)\", \"rgba(255,160,122,0.85)\", \"rgba(238,99,99,0.85)\", \"rgba(139,34,82,0.85)\", \"rgba(220,20,60,0.85)\"]}, \"type\": \"nominal\"}, \"order\": {\"field\": \"color_site_sort_index\", \"sort\": \"ascending\", \"type\": \"quantitative\"}, \"x\": {\"aggregate\": \"sum\", \"field\": \"count\", \"stack\": \"normalize\", \"title\": \"total\", \"type\": \"quantitative\"}, \"y\": {\"field\": \"timeframe\", \"scale\": {\"reverse\": true}, \"stack\": true, \"timeUnit\": \"yearmonth\", \"title\": \"month\", \"type\": \"ordinal\"}}, \"height\": 200, \"title\": \"P6\", \"width\": 400}, {\"data\": {\"name\": \"data-cf1980934bf6c6d0923b744768c3b994\"}, \"mark\": \"bar\", \"encoding\": {\"color\": {\"field\": \"topic\", \"legend\": {\"title\": \"topic\"}, \"scale\": {\"range\": [\"rgba(25,25,112,0.85)\", \"rgba(16,78,139,0.85)\", \"rgba(70,130,180,0.85)\", \"rgba(0,178,238,0.85)\", \"rgba(135,206,250,0.85)\", \"rgba(162,181,205,0.85)\", \"rgba(255,160,122,0.85)\", \"rgba(238,99,99,0.85)\", \"rgba(139,34,82,0.85)\", \"rgba(220,20,60,0.85)\"]}, \"type\": \"nominal\"}, \"order\": {\"field\": \"color_site_sort_index\", \"sort\": \"ascending\", \"type\": \"quantitative\"}, \"x\": {\"aggregate\": \"sum\", \"field\": \"count\", \"stack\": \"normalize\", \"title\": \"total\", \"type\": \"quantitative\"}, \"y\": {\"field\": \"timeframe\", \"scale\": {\"reverse\": true}, \"stack\": true, \"timeUnit\": \"yearmonth\", \"title\": \"month\", \"type\": \"ordinal\"}}, \"height\": 200, \"title\": \"P12\", \"width\": 400}, {\"data\": {\"name\": \"data-592475d036011ae6857c0fd84362b399\"}, \"mark\": \"bar\", \"encoding\": {\"color\": {\"field\": \"topic\", \"legend\": {\"title\": \"topic\"}, \"scale\": {\"range\": [\"rgba(25,25,112,0.85)\", \"rgba(16,78,139,0.85)\", \"rgba(70,130,180,0.85)\", \"rgba(0,178,238,0.85)\", \"rgba(135,206,250,0.85)\", \"rgba(162,181,205,0.85)\", \"rgba(255,160,122,0.85)\", \"rgba(238,99,99,0.85)\", \"rgba(139,34,82,0.85)\", \"rgba(220,20,60,0.85)\"]}, \"type\": \"nominal\"}, \"order\": {\"field\": \"color_site_sort_index\", \"sort\": \"ascending\", \"type\": \"quantitative\"}, \"x\": {\"aggregate\": \"sum\", \"field\": \"count\", \"stack\": \"normalize\", \"title\": \"total\", \"type\": \"quantitative\"}, \"y\": {\"field\": \"timeframe\", \"scale\": {\"reverse\": true}, \"stack\": true, \"timeUnit\": \"yearmonth\", \"title\": \"month\", \"type\": \"ordinal\"}}, \"height\": 200, \"title\": \"P14\", \"width\": 400}], \"$schema\": \"https://vega.github.io/schema/vega-lite/v4.17.0.json\", \"datasets\": {\"data-adbe8c956bc440aa244b8f7b62d5eec1\": [{\"topic\": \"Answers\", \"timeframe\": \"2021-05-14T00:00:00\", \"count\": 29}, {\"topic\": \"Answers\", \"timeframe\": \"2021-06-13T00:00:00\", \"count\": 2}, {\"topic\": \"Answers\", \"timeframe\": \"2021-07-13T00:00:00\", \"count\": 3}, {\"topic\": \"Answers\", \"timeframe\": \"2021-08-12T00:00:00\", \"count\": 1}, {\"topic\": \"Answers\", \"timeframe\": \"2021-09-11T00:00:00\", \"count\": 3}, {\"topic\": \"Answers\", \"timeframe\": \"2021-10-11T00:00:00\", \"count\": 4}, {\"topic\": \"Answers\", \"timeframe\": \"2021-11-10T00:00:00\", \"count\": 2}, {\"topic\": \"Answers\", \"timeframe\": \"2021-12-10T00:00:00\", \"count\": 4}, {\"topic\": \"Attempt questionnaire\", \"timeframe\": \"2021-05-13T00:00:00\", \"count\": 3}, {\"topic\": \"Attempt questionnaire\", \"timeframe\": \"2021-06-12T00:00:00\", \"count\": 2}, {\"topic\": \"Attempt questionnaire\", \"timeframe\": \"2021-07-12T00:00:00\", \"count\": 2}, {\"topic\": \"Attempt questionnaire\", \"timeframe\": \"2021-08-11T00:00:00\", \"count\": 7}, {\"topic\": \"Attempt questionnaire\", \"timeframe\": \"2021-09-10T00:00:00\", \"count\": 3}, {\"topic\": \"Attempt questionnaire\", \"timeframe\": \"2021-10-10T00:00:00\", \"count\": 22}, {\"topic\": \"Attempt questionnaire\", \"timeframe\": \"2021-11-09T00:00:00\", \"count\": 3}, {\"topic\": \"Attempt questionnaire\", \"timeframe\": \"2021-12-09T00:00:00\", \"count\": 13}, {\"topic\": \"Attempt questionnaire\", \"timeframe\": \"2022-01-08T00:00:00\", \"count\": 2}, {\"topic\": \"Control\", \"timeframe\": \"2021-05-13T00:00:00\", \"count\": 126}, {\"topic\": \"Control\", \"timeframe\": \"2021-06-12T00:00:00\", \"count\": 13}, {\"topic\": \"Control\", \"timeframe\": \"2021-07-12T00:00:00\", \"count\": 24}, {\"topic\": \"Control\", \"timeframe\": \"2021-08-11T00:00:00\", \"count\": 33}, {\"topic\": \"Control\", \"timeframe\": \"2021-09-10T00:00:00\", \"count\": 32}, {\"topic\": \"Control\", \"timeframe\": \"2021-10-10T00:00:00\", \"count\": 33}, {\"topic\": \"Control\", \"timeframe\": \"2021-11-09T00:00:00\", \"count\": 16}, {\"topic\": \"Control\", \"timeframe\": \"2021-12-09T00:00:00\", \"count\": 5}, {\"topic\": \"Control\", \"timeframe\": \"2022-01-08T00:00:00\", \"count\": 4}, {\"topic\": \"Control\", \"timeframe\": \"2022-02-07T00:00:00\", \"count\": 9}, {\"topic\": \"Control\", \"timeframe\": \"2022-03-09T00:00:00\", \"count\": 5}, {\"topic\": \"Control\", \"timeframe\": \"2022-04-08T00:00:00\", \"count\": 160}, {\"topic\": \"Control\", \"timeframe\": \"2022-05-08T00:00:00\", \"count\": 63}, {\"topic\": \"Entertainment\", \"timeframe\": \"2021-05-13T00:00:00\", \"count\": 54}, {\"topic\": \"Entertainment\", \"timeframe\": \"2021-06-12T00:00:00\", \"count\": 2}, {\"topic\": \"Entertainment\", \"timeframe\": \"2021-07-12T00:00:00\", \"count\": 15}, {\"topic\": \"Entertainment\", \"timeframe\": \"2021-08-11T00:00:00\", \"count\": 5}, {\"topic\": \"Entertainment\", \"timeframe\": \"2021-09-10T00:00:00\", \"count\": 14}, {\"topic\": \"Entertainment\", \"timeframe\": \"2021-10-10T00:00:00\", \"count\": 13}, {\"topic\": \"Entertainment\", \"timeframe\": \"2021-11-09T00:00:00\", \"count\": 8}, {\"topic\": \"Entertainment\", \"timeframe\": \"2021-12-09T00:00:00\", \"count\": 4}, {\"topic\": \"Entertainment\", \"timeframe\": \"2022-01-08T00:00:00\", \"count\": 2}, {\"topic\": \"Entertainment\", \"timeframe\": \"2022-02-07T00:00:00\", \"count\": 0}, {\"topic\": \"Entertainment\", \"timeframe\": \"2022-03-09T00:00:00\", \"count\": 7}, {\"topic\": \"Entertainment\", \"timeframe\": \"2022-04-08T00:00:00\", \"count\": 4}, {\"topic\": \"Entertainment\", \"timeframe\": \"2022-05-08T00:00:00\", \"count\": 3}, {\"topic\": \"Greetings\", \"timeframe\": \"2021-05-16T00:00:00\", \"count\": 6}, {\"topic\": \"Greetings\", \"timeframe\": \"2021-06-15T00:00:00\", \"count\": 0}, {\"topic\": \"Greetings\", \"timeframe\": \"2021-07-15T00:00:00\", \"count\": 0}, {\"topic\": \"Greetings\", \"timeframe\": \"2021-08-14T00:00:00\", \"count\": 0}, {\"topic\": \"Greetings\", \"timeframe\": \"2021-09-13T00:00:00\", \"count\": 0}, {\"topic\": \"Greetings\", \"timeframe\": \"2021-10-13T00:00:00\", \"count\": 0}, {\"topic\": \"Greetings\", \"timeframe\": \"2021-11-12T00:00:00\", \"count\": 0}, {\"topic\": \"Greetings\", \"timeframe\": \"2021-12-12T00:00:00\", \"count\": 0}, {\"topic\": \"Greetings\", \"timeframe\": \"2022-01-11T00:00:00\", \"count\": 0}, {\"topic\": \"Greetings\", \"timeframe\": \"2022-02-10T00:00:00\", \"count\": 0}, {\"topic\": \"Greetings\", \"timeframe\": \"2022-03-12T00:00:00\", \"count\": 0}, {\"topic\": \"Greetings\", \"timeframe\": \"2022-04-11T00:00:00\", \"count\": 1}, {\"topic\": \"News\", \"timeframe\": \"2021-05-13T00:00:00\", \"count\": 80}, {\"topic\": \"News\", \"timeframe\": \"2021-06-12T00:00:00\", \"count\": 3}, {\"topic\": \"News\", \"timeframe\": \"2021-07-12T00:00:00\", \"count\": 3}, {\"topic\": \"News\", \"timeframe\": \"2021-08-11T00:00:00\", \"count\": 3}, {\"topic\": \"News\", \"timeframe\": \"2021-09-10T00:00:00\", \"count\": 1}, {\"topic\": \"News\", \"timeframe\": \"2021-10-10T00:00:00\", \"count\": 2}, {\"topic\": \"News\", \"timeframe\": \"2021-11-09T00:00:00\", \"count\": 6}, {\"topic\": \"News\", \"timeframe\": \"2021-12-09T00:00:00\", \"count\": 1}, {\"topic\": \"News\", \"timeframe\": \"2022-01-08T00:00:00\", \"count\": 0}, {\"topic\": \"News\", \"timeframe\": \"2022-02-07T00:00:00\", \"count\": 0}, {\"topic\": \"News\", \"timeframe\": \"2022-03-09T00:00:00\", \"count\": 0}, {\"topic\": \"News\", \"timeframe\": \"2022-04-08T00:00:00\", \"count\": 1}, {\"topic\": \"News\", \"timeframe\": \"2022-05-08T00:00:00\", \"count\": 1}, {\"topic\": \"Reminders/Time/Date\", \"timeframe\": \"2021-05-13T00:00:00\", \"count\": 9}, {\"topic\": \"Reminders/Time/Date\", \"timeframe\": \"2021-06-12T00:00:00\", \"count\": 2}, {\"topic\": \"Reminders/Time/Date\", \"timeframe\": \"2021-07-12T00:00:00\", \"count\": 0}, {\"topic\": \"Reminders/Time/Date\", \"timeframe\": \"2021-08-11T00:00:00\", \"count\": 1}, {\"topic\": \"Reminders/Time/Date\", \"timeframe\": \"2021-09-10T00:00:00\", \"count\": 0}, {\"topic\": \"Reminders/Time/Date\", \"timeframe\": \"2021-10-10T00:00:00\", \"count\": 5}, {\"topic\": \"Reminders/Time/Date\", \"timeframe\": \"2021-11-09T00:00:00\", \"count\": 1}, {\"topic\": \"Reminders/Time/Date\", \"timeframe\": \"2021-12-09T00:00:00\", \"count\": 0}, {\"topic\": \"Reminders/Time/Date\", \"timeframe\": \"2022-01-08T00:00:00\", \"count\": 0}, {\"topic\": \"Reminders/Time/Date\", \"timeframe\": \"2022-02-07T00:00:00\", \"count\": 4}, {\"topic\": \"Reminders/Time/Date\", \"timeframe\": \"2022-03-09T00:00:00\", \"count\": 0}, {\"topic\": \"Reminders/Time/Date\", \"timeframe\": \"2022-04-08T00:00:00\", \"count\": 3}, {\"topic\": \"Reminders/Time/Date\", \"timeframe\": \"2022-05-08T00:00:00\", \"count\": 6}, {\"topic\": \"Timers\", \"timeframe\": \"2021-10-27T00:00:00\", \"count\": 1}, {\"topic\": \"Timers\", \"timeframe\": \"2021-11-26T00:00:00\", \"count\": 0}, {\"topic\": \"Timers\", \"timeframe\": \"2021-12-26T00:00:00\", \"count\": 0}, {\"topic\": \"Timers\", \"timeframe\": \"2022-01-25T00:00:00\", \"count\": 0}, {\"topic\": \"Timers\", \"timeframe\": \"2022-02-24T00:00:00\", \"count\": 9}, {\"topic\": \"Timers\", \"timeframe\": \"2022-03-26T00:00:00\", \"count\": 90}, {\"topic\": \"Timers\", \"timeframe\": \"2022-04-25T00:00:00\", \"count\": 97}, {\"topic\": \"Timers\", \"timeframe\": \"2022-05-25T00:00:00\", \"count\": 20}, {\"topic\": \"Undefined\", \"timeframe\": \"2021-05-13T00:00:00\", \"count\": 200}, {\"topic\": \"Undefined\", \"timeframe\": \"2021-06-12T00:00:00\", \"count\": 11}, {\"topic\": \"Undefined\", \"timeframe\": \"2021-07-12T00:00:00\", \"count\": 16}, {\"topic\": \"Undefined\", \"timeframe\": \"2021-08-11T00:00:00\", \"count\": 7}, {\"topic\": \"Undefined\", \"timeframe\": \"2021-09-10T00:00:00\", \"count\": 25}, {\"topic\": \"Undefined\", \"timeframe\": \"2021-10-10T00:00:00\", \"count\": 12}, {\"topic\": \"Undefined\", \"timeframe\": \"2021-11-09T00:00:00\", \"count\": 15}, {\"topic\": \"Undefined\", \"timeframe\": \"2021-12-09T00:00:00\", \"count\": 1}, {\"topic\": \"Undefined\", \"timeframe\": \"2022-01-08T00:00:00\", \"count\": 6}, {\"topic\": \"Undefined\", \"timeframe\": \"2022-02-07T00:00:00\", \"count\": 1}, {\"topic\": \"Undefined\", \"timeframe\": \"2022-03-09T00:00:00\", \"count\": 11}, {\"topic\": \"Undefined\", \"timeframe\": \"2022-04-08T00:00:00\", \"count\": 6}, {\"topic\": \"Undefined\", \"timeframe\": \"2022-05-08T00:00:00\", \"count\": 8}, {\"topic\": \"Weather\", \"timeframe\": \"2021-05-14T00:00:00\", \"count\": 15}, {\"topic\": \"Weather\", \"timeframe\": \"2021-06-13T00:00:00\", \"count\": 7}, {\"topic\": \"Weather\", \"timeframe\": \"2021-07-13T00:00:00\", \"count\": 3}, {\"topic\": \"Weather\", \"timeframe\": \"2021-08-12T00:00:00\", \"count\": 2}, {\"topic\": \"Weather\", \"timeframe\": \"2021-09-11T00:00:00\", \"count\": 10}, {\"topic\": \"Weather\", \"timeframe\": \"2021-10-11T00:00:00\", \"count\": 13}, {\"topic\": \"Weather\", \"timeframe\": \"2021-11-10T00:00:00\", \"count\": 18}, {\"topic\": \"Weather\", \"timeframe\": \"2021-12-10T00:00:00\", \"count\": 13}, {\"topic\": \"Weather\", \"timeframe\": \"2022-01-09T00:00:00\", \"count\": 10}, {\"topic\": \"Weather\", \"timeframe\": \"2022-02-08T00:00:00\", \"count\": 0}, {\"topic\": \"Weather\", \"timeframe\": \"2022-03-10T00:00:00\", \"count\": 59}, {\"topic\": \"Weather\", \"timeframe\": \"2022-04-09T00:00:00\", \"count\": 19}, {\"topic\": \"Weather\", \"timeframe\": \"2022-05-09T00:00:00\", \"count\": 46}], \"data-aa3de864fb0442382f4119007b2111b8\": [{\"topic\": \"Answers\", \"timeframe\": \"2021-09-08T00:00:00\", \"count\": 9}, {\"topic\": \"Answers\", \"timeframe\": \"2021-10-08T00:00:00\", \"count\": 8}, {\"topic\": \"Answers\", \"timeframe\": \"2021-11-07T00:00:00\", \"count\": 27}, {\"topic\": \"Answers\", \"timeframe\": \"2021-12-07T00:00:00\", \"count\": 26}, {\"topic\": \"Answers\", \"timeframe\": \"2022-01-06T00:00:00\", \"count\": 21}, {\"topic\": \"Answers\", \"timeframe\": \"2022-02-05T00:00:00\", \"count\": 19}, {\"topic\": \"Answers\", \"timeframe\": \"2022-03-07T00:00:00\", \"count\": 9}, {\"topic\": \"Answers\", \"timeframe\": \"2022-04-06T00:00:00\", \"count\": 4}, {\"topic\": \"Attempt questionnaire\", \"timeframe\": \"2021-09-24T00:00:00\", \"count\": 1}, {\"topic\": \"Attempt questionnaire\", \"timeframe\": \"2021-10-24T00:00:00\", \"count\": 7}, {\"topic\": \"Attempt questionnaire\", \"timeframe\": \"2021-11-23T00:00:00\", \"count\": 14}, {\"topic\": \"Attempt questionnaire\", \"timeframe\": \"2021-12-23T00:00:00\", \"count\": 42}, {\"topic\": \"Attempt questionnaire\", \"timeframe\": \"2022-01-22T00:00:00\", \"count\": 26}, {\"topic\": \"Attempt questionnaire\", \"timeframe\": \"2022-02-21T00:00:00\", \"count\": 8}, {\"topic\": \"Attempt questionnaire\", \"timeframe\": \"2022-03-23T00:00:00\", \"count\": 3}, {\"topic\": \"Control\", \"timeframe\": \"2021-09-08T00:00:00\", \"count\": 7}, {\"topic\": \"Control\", \"timeframe\": \"2021-10-08T00:00:00\", \"count\": 6}, {\"topic\": \"Control\", \"timeframe\": \"2021-11-07T00:00:00\", \"count\": 5}, {\"topic\": \"Control\", \"timeframe\": \"2021-12-07T00:00:00\", \"count\": 24}, {\"topic\": \"Control\", \"timeframe\": \"2022-01-06T00:00:00\", \"count\": 14}, {\"topic\": \"Control\", \"timeframe\": \"2022-02-05T00:00:00\", \"count\": 15}, {\"topic\": \"Control\", \"timeframe\": \"2022-03-07T00:00:00\", \"count\": 1}, {\"topic\": \"Control\", \"timeframe\": \"2022-04-06T00:00:00\", \"count\": 0}, {\"topic\": \"Control\", \"timeframe\": \"2022-05-06T00:00:00\", \"count\": 1}, {\"topic\": \"Entertainment\", \"timeframe\": \"2021-09-10T00:00:00\", \"count\": 3}, {\"topic\": \"Entertainment\", \"timeframe\": \"2021-10-10T00:00:00\", \"count\": 0}, {\"topic\": \"Entertainment\", \"timeframe\": \"2021-11-09T00:00:00\", \"count\": 0}, {\"topic\": \"Entertainment\", \"timeframe\": \"2021-12-09T00:00:00\", \"count\": 12}, {\"topic\": \"Entertainment\", \"timeframe\": \"2022-01-08T00:00:00\", \"count\": 1}, {\"topic\": \"Entertainment\", \"timeframe\": \"2022-02-07T00:00:00\", \"count\": 6}, {\"topic\": \"Entertainment\", \"timeframe\": \"2022-03-09T00:00:00\", \"count\": 7}, {\"topic\": \"Entertainment\", \"timeframe\": \"2022-04-08T00:00:00\", \"count\": 0}, {\"topic\": \"Entertainment\", \"timeframe\": \"2022-05-08T00:00:00\", \"count\": 7}, {\"topic\": \"Greetings\", \"timeframe\": \"2021-09-12T00:00:00\", \"count\": 1}, {\"topic\": \"Greetings\", \"timeframe\": \"2021-10-12T00:00:00\", \"count\": 0}, {\"topic\": \"Greetings\", \"timeframe\": \"2021-11-11T00:00:00\", \"count\": 0}, {\"topic\": \"Greetings\", \"timeframe\": \"2021-12-11T00:00:00\", \"count\": 1}, {\"topic\": \"News\", \"timeframe\": \"2021-12-21T00:00:00\", \"count\": 1}, {\"topic\": \"Reminders/Time/Date\", \"timeframe\": \"2021-09-18T00:00:00\", \"count\": 2}, {\"topic\": \"Reminders/Time/Date\", \"timeframe\": \"2021-10-18T00:00:00\", \"count\": 5}, {\"topic\": \"Reminders/Time/Date\", \"timeframe\": \"2021-11-17T00:00:00\", \"count\": 5}, {\"topic\": \"Reminders/Time/Date\", \"timeframe\": \"2021-12-17T00:00:00\", \"count\": 3}, {\"topic\": \"Reminders/Time/Date\", \"timeframe\": \"2022-01-16T00:00:00\", \"count\": 4}, {\"topic\": \"Reminders/Time/Date\", \"timeframe\": \"2022-02-15T00:00:00\", \"count\": 5}, {\"topic\": \"Reminders/Time/Date\", \"timeframe\": \"2022-03-17T00:00:00\", \"count\": 6}, {\"topic\": \"Reminders/Time/Date\", \"timeframe\": \"2022-04-16T00:00:00\", \"count\": 0}, {\"topic\": \"Reminders/Time/Date\", \"timeframe\": \"2022-05-16T00:00:00\", \"count\": 1}, {\"topic\": \"Timers\", \"timeframe\": \"2021-12-09T00:00:00\", \"count\": 1}, {\"topic\": \"Undefined\", \"timeframe\": \"2021-09-08T00:00:00\", \"count\": 28}, {\"topic\": \"Undefined\", \"timeframe\": \"2021-10-08T00:00:00\", \"count\": 23}, {\"topic\": \"Undefined\", \"timeframe\": \"2021-11-07T00:00:00\", \"count\": 17}, {\"topic\": \"Undefined\", \"timeframe\": \"2021-12-07T00:00:00\", \"count\": 31}, {\"topic\": \"Undefined\", \"timeframe\": \"2022-01-06T00:00:00\", \"count\": 26}, {\"topic\": \"Undefined\", \"timeframe\": \"2022-02-05T00:00:00\", \"count\": 10}, {\"topic\": \"Undefined\", \"timeframe\": \"2022-03-07T00:00:00\", \"count\": 7}, {\"topic\": \"Undefined\", \"timeframe\": \"2022-04-06T00:00:00\", \"count\": 1}], \"data-cf1980934bf6c6d0923b744768c3b994\": [{\"topic\": \"Answers\", \"timeframe\": \"2021-10-30T00:00:00\", \"count\": 20}, {\"topic\": \"Answers\", \"timeframe\": \"2021-11-29T00:00:00\", \"count\": 25}, {\"topic\": \"Answers\", \"timeframe\": \"2021-12-29T00:00:00\", \"count\": 26}, {\"topic\": \"Answers\", \"timeframe\": \"2022-01-28T00:00:00\", \"count\": 23}, {\"topic\": \"Answers\", \"timeframe\": \"2022-02-27T00:00:00\", \"count\": 16}, {\"topic\": \"Answers\", \"timeframe\": \"2022-03-29T00:00:00\", \"count\": 16}, {\"topic\": \"Answers\", \"timeframe\": \"2022-04-28T00:00:00\", \"count\": 1}, {\"topic\": \"Attempt questionnaire\", \"timeframe\": \"2021-10-29T00:00:00\", \"count\": 11}, {\"topic\": \"Attempt questionnaire\", \"timeframe\": \"2021-11-28T00:00:00\", \"count\": 33}, {\"topic\": \"Attempt questionnaire\", \"timeframe\": \"2021-12-28T00:00:00\", \"count\": 37}, {\"topic\": \"Attempt questionnaire\", \"timeframe\": \"2022-01-27T00:00:00\", \"count\": 15}, {\"topic\": \"Attempt questionnaire\", \"timeframe\": \"2022-02-26T00:00:00\", \"count\": 15}, {\"topic\": \"Control\", \"timeframe\": \"2021-10-28T00:00:00\", \"count\": 97}, {\"topic\": \"Control\", \"timeframe\": \"2021-11-27T00:00:00\", \"count\": 89}, {\"topic\": \"Control\", \"timeframe\": \"2021-12-27T00:00:00\", \"count\": 89}, {\"topic\": \"Control\", \"timeframe\": \"2022-01-26T00:00:00\", \"count\": 78}, {\"topic\": \"Control\", \"timeframe\": \"2022-02-25T00:00:00\", \"count\": 90}, {\"topic\": \"Control\", \"timeframe\": \"2022-03-27T00:00:00\", \"count\": 72}, {\"topic\": \"Control\", \"timeframe\": \"2022-04-26T00:00:00\", \"count\": 74}, {\"topic\": \"Control\", \"timeframe\": \"2022-05-26T00:00:00\", \"count\": 20}, {\"topic\": \"Entertainment\", \"timeframe\": \"2021-10-28T00:00:00\", \"count\": 109}, {\"topic\": \"Entertainment\", \"timeframe\": \"2021-11-27T00:00:00\", \"count\": 111}, {\"topic\": \"Entertainment\", \"timeframe\": \"2021-12-27T00:00:00\", \"count\": 117}, {\"topic\": \"Entertainment\", \"timeframe\": \"2022-01-26T00:00:00\", \"count\": 132}, {\"topic\": \"Entertainment\", \"timeframe\": \"2022-02-25T00:00:00\", \"count\": 126}, {\"topic\": \"Entertainment\", \"timeframe\": \"2022-03-27T00:00:00\", \"count\": 130}, {\"topic\": \"Entertainment\", \"timeframe\": \"2022-04-26T00:00:00\", \"count\": 66}, {\"topic\": \"Entertainment\", \"timeframe\": \"2022-05-26T00:00:00\", \"count\": 26}, {\"topic\": \"Greetings\", \"timeframe\": \"2021-10-30T00:00:00\", \"count\": 1}, {\"topic\": \"Greetings\", \"timeframe\": \"2021-11-29T00:00:00\", \"count\": 0}, {\"topic\": \"Greetings\", \"timeframe\": \"2021-12-29T00:00:00\", \"count\": 0}, {\"topic\": \"Greetings\", \"timeframe\": \"2022-01-28T00:00:00\", \"count\": 2}, {\"topic\": \"Greetings\", \"timeframe\": \"2022-02-27T00:00:00\", \"count\": 0}, {\"topic\": \"Greetings\", \"timeframe\": \"2022-03-29T00:00:00\", \"count\": 0}, {\"topic\": \"Greetings\", \"timeframe\": \"2022-04-28T00:00:00\", \"count\": 22}, {\"topic\": \"News\", \"timeframe\": \"2021-10-31T00:00:00\", \"count\": 19}, {\"topic\": \"News\", \"timeframe\": \"2021-11-30T00:00:00\", \"count\": 5}, {\"topic\": \"News\", \"timeframe\": \"2021-12-30T00:00:00\", \"count\": 0}, {\"topic\": \"News\", \"timeframe\": \"2022-01-29T00:00:00\", \"count\": 1}, {\"topic\": \"News\", \"timeframe\": \"2022-02-28T00:00:00\", \"count\": 1}, {\"topic\": \"News\", \"timeframe\": \"2022-03-30T00:00:00\", \"count\": 1}, {\"topic\": \"Reminders/Time/Date\", \"timeframe\": \"2021-10-28T00:00:00\", \"count\": 20}, {\"topic\": \"Reminders/Time/Date\", \"timeframe\": \"2021-11-27T00:00:00\", \"count\": 10}, {\"topic\": \"Reminders/Time/Date\", \"timeframe\": \"2021-12-27T00:00:00\", \"count\": 14}, {\"topic\": \"Reminders/Time/Date\", \"timeframe\": \"2022-01-26T00:00:00\", \"count\": 3}, {\"topic\": \"Reminders/Time/Date\", \"timeframe\": \"2022-02-25T00:00:00\", \"count\": 0}, {\"topic\": \"Reminders/Time/Date\", \"timeframe\": \"2022-03-27T00:00:00\", \"count\": 1}, {\"topic\": \"Reminders/Time/Date\", \"timeframe\": \"2022-04-26T00:00:00\", \"count\": 3}, {\"topic\": \"Undefined\", \"timeframe\": \"2021-10-28T00:00:00\", \"count\": 82}, {\"topic\": \"Undefined\", \"timeframe\": \"2021-11-27T00:00:00\", \"count\": 47}, {\"topic\": \"Undefined\", \"timeframe\": \"2021-12-27T00:00:00\", \"count\": 52}, {\"topic\": \"Undefined\", \"timeframe\": \"2022-01-26T00:00:00\", \"count\": 35}, {\"topic\": \"Undefined\", \"timeframe\": \"2022-02-25T00:00:00\", \"count\": 15}, {\"topic\": \"Undefined\", \"timeframe\": \"2022-03-27T00:00:00\", \"count\": 10}, {\"topic\": \"Undefined\", \"timeframe\": \"2022-04-26T00:00:00\", \"count\": 18}, {\"topic\": \"Undefined\", \"timeframe\": \"2022-05-26T00:00:00\", \"count\": 1}, {\"topic\": \"Weather\", \"timeframe\": \"2021-11-09T00:00:00\", \"count\": 3}, {\"topic\": \"Weather\", \"timeframe\": \"2021-12-09T00:00:00\", \"count\": 3}, {\"topic\": \"Weather\", \"timeframe\": \"2022-01-08T00:00:00\", \"count\": 6}, {\"topic\": \"Weather\", \"timeframe\": \"2022-02-07T00:00:00\", \"count\": 3}, {\"topic\": \"Weather\", \"timeframe\": \"2022-03-09T00:00:00\", \"count\": 1}, {\"topic\": \"Weather\", \"timeframe\": \"2022-04-08T00:00:00\", \"count\": 2}, {\"topic\": \"Weather\", \"timeframe\": \"2022-05-08T00:00:00\", \"count\": 2}], \"data-592475d036011ae6857c0fd84362b399\": [{\"topic\": \"Answers\", \"timeframe\": \"2021-10-08T00:00:00\", \"count\": 3}, {\"topic\": \"Answers\", \"timeframe\": \"2021-11-07T00:00:00\", \"count\": 3}, {\"topic\": \"Answers\", \"timeframe\": \"2021-12-07T00:00:00\", \"count\": 9}, {\"topic\": \"Answers\", \"timeframe\": \"2022-01-06T00:00:00\", \"count\": 3}, {\"topic\": \"Answers\", \"timeframe\": \"2022-02-05T00:00:00\", \"count\": 1}, {\"topic\": \"Answers\", \"timeframe\": \"2022-03-07T00:00:00\", \"count\": 1}, {\"topic\": \"Answers\", \"timeframe\": \"2022-04-06T00:00:00\", \"count\": 7}, {\"topic\": \"Answers\", \"timeframe\": \"2022-05-06T00:00:00\", \"count\": 3}, {\"topic\": \"Attempt questionnaire\", \"timeframe\": \"2021-10-31T00:00:00\", \"count\": 11}, {\"topic\": \"Attempt questionnaire\", \"timeframe\": \"2021-11-30T00:00:00\", \"count\": 16}, {\"topic\": \"Attempt questionnaire\", \"timeframe\": \"2021-12-30T00:00:00\", \"count\": 15}, {\"topic\": \"Attempt questionnaire\", \"timeframe\": \"2022-01-29T00:00:00\", \"count\": 16}, {\"topic\": \"Attempt questionnaire\", \"timeframe\": \"2022-02-28T00:00:00\", \"count\": 16}, {\"topic\": \"Attempt questionnaire\", \"timeframe\": \"2022-03-30T00:00:00\", \"count\": 4}, {\"topic\": \"Attempt questionnaire\", \"timeframe\": \"2022-04-29T00:00:00\", \"count\": 1}, {\"topic\": \"Control\", \"timeframe\": \"2021-10-08T00:00:00\", \"count\": 15}, {\"topic\": \"Control\", \"timeframe\": \"2021-11-07T00:00:00\", \"count\": 32}, {\"topic\": \"Control\", \"timeframe\": \"2021-12-07T00:00:00\", \"count\": 10}, {\"topic\": \"Control\", \"timeframe\": \"2022-01-06T00:00:00\", \"count\": 12}, {\"topic\": \"Control\", \"timeframe\": \"2022-02-05T00:00:00\", \"count\": 7}, {\"topic\": \"Control\", \"timeframe\": \"2022-03-07T00:00:00\", \"count\": 5}, {\"topic\": \"Control\", \"timeframe\": \"2022-04-06T00:00:00\", \"count\": 20}, {\"topic\": \"Control\", \"timeframe\": \"2022-05-06T00:00:00\", \"count\": 3}, {\"topic\": \"Entertainment\", \"timeframe\": \"2021-10-08T00:00:00\", \"count\": 21}, {\"topic\": \"Entertainment\", \"timeframe\": \"2021-11-07T00:00:00\", \"count\": 55}, {\"topic\": \"Entertainment\", \"timeframe\": \"2021-12-07T00:00:00\", \"count\": 7}, {\"topic\": \"Entertainment\", \"timeframe\": \"2022-01-06T00:00:00\", \"count\": 5}, {\"topic\": \"Entertainment\", \"timeframe\": \"2022-02-05T00:00:00\", \"count\": 5}, {\"topic\": \"Entertainment\", \"timeframe\": \"2022-03-07T00:00:00\", \"count\": 13}, {\"topic\": \"Entertainment\", \"timeframe\": \"2022-04-06T00:00:00\", \"count\": 20}, {\"topic\": \"Entertainment\", \"timeframe\": \"2022-05-06T00:00:00\", \"count\": 8}, {\"topic\": \"Greetings\", \"timeframe\": \"2021-11-18T00:00:00\", \"count\": 2}, {\"topic\": \"Greetings\", \"timeframe\": \"2021-12-18T00:00:00\", \"count\": 1}, {\"topic\": \"News\", \"timeframe\": \"2021-10-09T00:00:00\", \"count\": 2}, {\"topic\": \"News\", \"timeframe\": \"2021-11-08T00:00:00\", \"count\": 2}, {\"topic\": \"News\", \"timeframe\": \"2021-12-08T00:00:00\", \"count\": 0}, {\"topic\": \"News\", \"timeframe\": \"2022-01-07T00:00:00\", \"count\": 1}, {\"topic\": \"News\", \"timeframe\": \"2022-02-06T00:00:00\", \"count\": 0}, {\"topic\": \"News\", \"timeframe\": \"2022-03-08T00:00:00\", \"count\": 4}, {\"topic\": \"News\", \"timeframe\": \"2022-04-07T00:00:00\", \"count\": 4}, {\"topic\": \"Reminders/Time/Date\", \"timeframe\": \"2021-10-08T00:00:00\", \"count\": 6}, {\"topic\": \"Reminders/Time/Date\", \"timeframe\": \"2021-11-07T00:00:00\", \"count\": 6}, {\"topic\": \"Reminders/Time/Date\", \"timeframe\": \"2021-12-07T00:00:00\", \"count\": 1}, {\"topic\": \"Reminders/Time/Date\", \"timeframe\": \"2022-01-06T00:00:00\", \"count\": 2}, {\"topic\": \"Reminders/Time/Date\", \"timeframe\": \"2022-02-05T00:00:00\", \"count\": 0}, {\"topic\": \"Reminders/Time/Date\", \"timeframe\": \"2022-03-07T00:00:00\", \"count\": 2}, {\"topic\": \"Reminders/Time/Date\", \"timeframe\": \"2022-04-06T00:00:00\", \"count\": 3}, {\"topic\": \"Undefined\", \"timeframe\": \"2021-10-05T00:00:00\", \"count\": 13}, {\"topic\": \"Undefined\", \"timeframe\": \"2021-11-04T00:00:00\", \"count\": 9}, {\"topic\": \"Undefined\", \"timeframe\": \"2021-12-04T00:00:00\", \"count\": 16}, {\"topic\": \"Undefined\", \"timeframe\": \"2022-01-03T00:00:00\", \"count\": 10}, {\"topic\": \"Undefined\", \"timeframe\": \"2022-02-02T00:00:00\", \"count\": 3}, {\"topic\": \"Undefined\", \"timeframe\": \"2022-03-04T00:00:00\", \"count\": 4}, {\"topic\": \"Undefined\", \"timeframe\": \"2022-04-03T00:00:00\", \"count\": 17}, {\"topic\": \"Undefined\", \"timeframe\": \"2022-05-03T00:00:00\", \"count\": 13}, {\"topic\": \"Undefined\", \"timeframe\": \"2022-06-02T00:00:00\", \"count\": 1}, {\"topic\": \"Weather\", \"timeframe\": \"2021-10-08T00:00:00\", \"count\": 4}, {\"topic\": \"Weather\", \"timeframe\": \"2021-11-07T00:00:00\", \"count\": 0}, {\"topic\": \"Weather\", \"timeframe\": \"2021-12-07T00:00:00\", \"count\": 0}, {\"topic\": \"Weather\", \"timeframe\": \"2022-01-06T00:00:00\", \"count\": 0}, {\"topic\": \"Weather\", \"timeframe\": \"2022-02-05T00:00:00\", \"count\": 0}, {\"topic\": \"Weather\", \"timeframe\": \"2022-03-07T00:00:00\", \"count\": 0}, {\"topic\": \"Weather\", \"timeframe\": \"2022-04-06T00:00:00\", \"count\": 1}]}}, {\"mode\": \"vega-lite\"});\n",
       "</script>"
      ],
      "text/plain": [
       "alt.VConcatChart(...)"
      ]
     },
     "execution_count": 6,
     "metadata": {},
     "output_type": "execute_result"
    }
   ],
   "source": [
    "figs = []\n",
    "ax1, ax2, ax3, ax4 = 0,1,2,3\n",
    "for (i,u),ax in zip(enumerate(['P2','P6','P12','P14']),[ax1,ax2,ax3,ax4]):\n",
    "    ax = ale.plot_topics_monthly(df_topics_, u)\n",
    "    figs.append(ax)\n",
    "alt.vconcat(figs[0], figs[1], figs[2], figs[3]).configure_axis(\n",
    "    labelFontSize=12\n",
    "    ).configure_title(fontSize=15)"
   ]
  },
  {
   "cell_type": "markdown",
   "metadata": {},
   "source": [
    "##### 2) % time slots of certain topics per user per novelty/post-novelty phase"
   ]
  },
  {
   "cell_type": "code",
   "execution_count": 8,
   "metadata": {},
   "outputs": [
    {
     "data": {
      "text/plain": [
       "array(['Undefined', 'Weather', 'Entertainment', 'Control',\n",
       "       'Reminders/Time/Date', 'Answers', 'Attempt questionnaire', 'News',\n",
       "       'Greetings', 'Timers'], dtype=object)"
      ]
     },
     "execution_count": 8,
     "metadata": {},
     "output_type": "execute_result"
    }
   ],
   "source": [
    "df_topics_.topic.unique()"
   ]
  },
  {
   "cell_type": "code",
   "execution_count": 9,
   "metadata": {},
   "outputs": [
    {
     "data": {
      "text/plain": [
       "([(50.0, 0.0, 50.0), (66.67, 33.33, 0.0)], 4, 9)"
      ]
     },
     "execution_count": 9,
     "metadata": {},
     "output_type": "execute_result"
    }
   ],
   "source": [
    "# the two last numbers represent the total triggers for novelty/post-novelty phase\n",
    "nov.topics_novelty(df=df_topics_, pid='P2', topic='Weather')\n",
    "nov.topics_novelty(df=df_topics_, pid='P2', topic='Timers')\n",
    "nov.topics_novelty(df=df_topics_, pid='P6', topic='Entertainment')\n",
    "nov.topics_novelty(df=df_topics_, pid='P6', topic='Reminders/Time/Date')\n",
    "nov.topics_novelty(df=df_topics_, pid='P12', topic='Weather')\n",
    "nov.topics_novelty(df=df_topics_, pid='P14', topic='News')"
   ]
  }
 ],
 "metadata": {
  "kernelspec": {
   "display_name": "minder_env",
   "language": "python",
   "name": "python3"
  },
  "language_info": {
   "codemirror_mode": {
    "name": "ipython",
    "version": 3
   },
   "file_extension": ".py",
   "mimetype": "text/x-python",
   "name": "python",
   "nbconvert_exporter": "python",
   "pygments_lexer": "ipython3",
   "version": "3.8.12"
  },
  "orig_nbformat": 4
 },
 "nbformat": 4,
 "nbformat_minor": 2
}
